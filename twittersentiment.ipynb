{
 "cells": [
  {
   "cell_type": "code",
   "execution_count": null,
   "metadata": {},
   "outputs": [],
   "source": [
    "import re\n",
    "import tweepy\n",
    "import win32com.client\n",
    "auth = tweepy.OAuthHandler(\"WZ9VoayS9f6fsz9ReWYiRi3aQ\", \"TXqNig43nkJivD7ofNQbwFL7UVt5PLtnNmi9zdXLJ1KYoGF4TB\")\n",
    "auth.set_access_token(\"231249661-297yAWMEqfKNdkookgBjbsqWveqcJ699lfjV0pcx\", \"M0vpMcPuAbH2Lx5e8IBTqTFv7asyc1DsYs7dG9oUy9eoW\")\n",
    "api = tweepy.API(auth)\n",
    "username='NarendraModi'\n",
    "#username=\"imVKohli\"\n",
    "my_tweets = api.user_timeline(screen_name=username,count=10)\n",
    "from vaderSentiment.vaderSentiment import SentimentIntensityAnalyzer\n",
    "def Speak(text):\n",
    "    win32com.client.Dispatch(\"SAPI.SpVoice\").Speak(text)       \n",
    "def sentiment_scores(sentence):\n",
    "    sid_obj = SentimentIntensityAnalyzer() \n",
    "    sentiment_dict = sid_obj.polarity_scores(sentence) \n",
    "    print(\"sentence was rated as \", sentiment_dict['neg']*100, \"% Negative\") \n",
    "    print(\"sentence was rated as \", sentiment_dict['neu']*100, \"% Neutral\") \n",
    "    print(\"sentence was rated as \", sentiment_dict['pos']*100, \"% Positive\") \n",
    "    Speak(\"Sentence Overall Rated As\")\n",
    "    print(\"Sentence Overall Rated As\", end = \":\") \n",
    "\n",
    "    if sentiment_dict['compound'] >= 0.05 :\n",
    "        Speak('positive')\n",
    "        print('Positive') \n",
    "  \n",
    "    elif sentiment_dict['compound'] <= - 0.05 : \n",
    "        Speak('negative')\n",
    "        print(\"Negative\") \n",
    "  \n",
    "    else : \n",
    "        Speak('neutral')\n",
    "        print(\"Neutral\") \n",
    "        \n",
    "if __name__ == \"__main__\" :\n",
    "    Speak(\"following are some tweets by \"+api.get_user(username).name)\n",
    "    for t in my_tweets:\n",
    "        text=t.text\n",
    "        text = re.sub(r'http\\S+', '', text)\n",
    "        print(text)\n",
    "        Speak(text)\n",
    "        sentiment_scores(text)"
   ]
  }
 ],
 "metadata": {
  "kernelspec": {
   "display_name": "Python 3",
   "language": "python",
   "name": "python3"
  },
  "language_info": {
   "codemirror_mode": {
    "name": "ipython",
    "version": 3
   },
   "file_extension": ".py",
   "mimetype": "text/x-python",
   "name": "python",
   "nbconvert_exporter": "python",
   "pygments_lexer": "ipython3",
   "version": "3.7.4"
  }
 },
 "nbformat": 4,
 "nbformat_minor": 2
}
